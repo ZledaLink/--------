{
 "cells": [
  {
   "cell_type": "code",
   "execution_count": 3,
   "metadata": {},
   "outputs": [],
   "source": [
    "import requests  \n",
    "from bs4 import BeautifulSoup\n",
    "\n",
    "for i in range(1,5): # i 1~4반복\n",
    "\n",
    "    response = requests.get(f\"https://startcoding.pythonanywhere.com/basic?page={i}\")\n",
    "\n",
    "\n",
    "    html = response.text\n",
    "    soup = BeautifulSoup(html, 'html.parser')\n",
    "\n",
    "    itmes = soup.select('.prdocut')\n",
    "\n",
    "\n",
    "    for itme in itmes:\n",
    "\n",
    "        # 품목명\n",
    "        category = itme.select_one('.product-body').text\n",
    "\n",
    "        # 상품명\n",
    "        name = itme.select_one('.product-name').text\n",
    "\n",
    "        link = itme.select_one('.product-name > a').attrs\n",
    "        # ['href'] - 링크를 가져올 수 있는 코드\n",
    "\n",
    "        # 상품가격\n",
    "        price  = soup.select_one('.product-price').text.split('원')[0].replace(',','')\n",
    "        print(category, name, link, price)\n",
    "\n"
   ]
  }
 ],
 "metadata": {
  "kernelspec": {
   "display_name": "Python 3",
   "language": "python",
   "name": "python3"
  },
  "language_info": {
   "codemirror_mode": {
    "name": "ipython",
    "version": 3
   },
   "file_extension": ".py",
   "mimetype": "text/x-python",
   "name": "python",
   "nbconvert_exporter": "python",
   "pygments_lexer": "ipython3",
   "version": "3.13.0"
  }
 },
 "nbformat": 4,
 "nbformat_minor": 2
}
